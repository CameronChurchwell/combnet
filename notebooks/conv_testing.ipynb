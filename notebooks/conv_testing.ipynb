{
 "cells": [
  {
   "cell_type": "code",
   "execution_count": 1,
   "id": "b9b0a8e0-1572-4e43-be0c-4f04e2c2cc3f",
   "metadata": {
    "tags": []
   },
   "outputs": [],
   "source": [
    "# %load_ext autoreload\n",
    "# %autoreload 2"
   ]
  },
  {
   "cell_type": "code",
   "execution_count": 2,
   "id": "5258c623-40d0-4488-a311-e9c693957e16",
   "metadata": {
    "tags": []
   },
   "outputs": [],
   "source": [
    "import torchaudio\n",
    "import yapecs\n",
    "import librosa\n",
    "from matplotlib import pyplot as plt\n",
    "\n",
    "combnet = yapecs.compose('combnet', ['/home/cameron/combnet/config/giantsteps-comb.py'])"
   ]
  },
  {
   "cell_type": "code",
   "execution_count": 3,
   "id": "0382ec9d-9464-4fcf-8980-c350de300755",
   "metadata": {
    "tags": []
   },
   "outputs": [
    {
     "data": {
      "text/plain": [
       "8192"
      ]
     },
     "execution_count": 3,
     "metadata": {},
     "output_type": "execute_result"
    }
   ],
   "source": [
    "combnet.N_FFT"
   ]
  },
  {
   "cell_type": "code",
   "execution_count": 4,
   "id": "14215335-a2c2-42e6-b0ba-7d334930f8f4",
   "metadata": {
    "tags": []
   },
   "outputs": [
    {
     "name": "stdout",
     "output_type": "stream",
     "text": [
      "torch.Size([1, 5292000])\n",
      "torch.Size([1, 24])\n"
     ]
    }
   ],
   "source": [
    "model = combnet.models.classifiers.ConvClassifier()\n",
    "\n",
    "audio, sr = torchaudio.load('/home/cameron/combnet/data/datasets/giantsteps/10089.LOFI.wav')\n",
    "\n",
    "audio = audio.mean(0, keepdims=True)\n",
    "\n",
    "print(audio.shape)\n",
    "\n",
    "filters = model.filters\n",
    "\n",
    "# print(filters.shape)\n",
    "# plt.pcolormesh(filters); plt.colorbar(); plt.show()\n",
    "\n",
    "out = model.forward(audio).detach()\n",
    "\n",
    "print(out.shape)\n",
    "\n",
    "# plt.gcf().set_size_inches(16, 4)\n",
    "\n",
    "# plt.pcolormesh(out.squeeze()); plt.show()"
   ]
  },
  {
   "cell_type": "code",
   "execution_count": null,
   "id": "7760df06-d0bf-4a3f-abcb-74c5b006a3bf",
   "metadata": {},
   "outputs": [],
   "source": []
  }
 ],
 "metadata": {
  "kernelspec": {
   "display_name": "Python (cameron)",
   "language": "python",
   "name": "cameron"
  },
  "language_info": {
   "codemirror_mode": {
    "name": "ipython",
    "version": 3
   },
   "file_extension": ".py",
   "mimetype": "text/x-python",
   "name": "python",
   "nbconvert_exporter": "python",
   "pygments_lexer": "ipython3",
   "version": "3.11.9"
  }
 },
 "nbformat": 4,
 "nbformat_minor": 5
}
