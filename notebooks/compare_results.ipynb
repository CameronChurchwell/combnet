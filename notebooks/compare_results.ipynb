{
 "cells": [
  {
   "cell_type": "code",
   "execution_count": null,
   "id": "830a8c61-7375-4d0f-952e-b762f666e62f",
   "metadata": {
    "tags": []
   },
   "outputs": [],
   "source": [
    "import combnet\n",
    "import pandas as pd\n",
    "from json import load\n",
    "pd.set_option('display.max_rows', None)\n",
    "pd.set_option('display.max_colwidth', None)"
   ]
  },
  {
   "cell_type": "code",
   "execution_count": null,
   "id": "540bc8e3",
   "metadata": {},
   "outputs": [],
   "source": [
    "# pattern = 'giantsteps-comb-scaled-equal-*/overall.json'\n",
    "pattern = 'notes-*-search-*/overall.json'\n",
    "dataset = 'aggregate'\n",
    "df = pd.DataFrame(columns=['run', 'MicroF1', 'MacroF1', 'FrameAccuracy', 'n_params'])\n",
    "for file in combnet.EVAL_DIR.glob(pattern):\n",
    "    name = file.parent.name\n",
    "    with open(file, 'r') as f:\n",
    "        results = load(f)\n",
    "        n_params = results['meta']['n_params']\n",
    "        results = results[dataset]\n",
    "    df.loc[len(df)] = [name, results['MicroF1'], results['MacroF1'], results['FrameAccuracy'], n_params]\n",
    "# df = df[~df['run'].str.contains('sum|mean')]\n",
    "df = df.sort_values('MacroF1', ascending=False)\n",
    "# df.insert(1, 'n_filters', df.iloc[:, 0].apply(lambda name: int(name.split('-')[-1])))\n",
    "df"
   ]
  },
  {
   "cell_type": "code",
   "execution_count": null,
   "id": "5159855c",
   "metadata": {},
   "outputs": [],
   "source": [
    "# pattern = 'giantsteps-comb-scaled-equal-*/overall.json'\n",
    "pattern = 'timit-*frame*/overall.json'\n",
    "dataset = 'aggregate'\n",
    "df = pd.DataFrame(columns=['run', 'loss', 'accuracy', 'n_params'])\n",
    "for file in combnet.EVAL_DIR.glob(pattern):\n",
    "    name = file.parent.name\n",
    "    with open(file, 'r') as f:\n",
    "        results = load(f)\n",
    "        n_params = results['meta']['n_params']\n",
    "        results = results[dataset]\n",
    "    df.loc[len(df)] = [name, results['loss'], results['accuracy'], n_params]\n",
    "# df = df[~df['run'].str.contains('sum|mean')]\n",
    "df = df.sort_values('accuracy', ascending=False)\n",
    "# df = df.sort_values('loss', ascending=True)\n",
    "df['∆n_params'] = df['n_params'] - df['n_params'].iloc[0]\n",
    "df['%∆n_params'] = (df['n_params'] - df['n_params'].iloc[0]) / df['n_params'].iloc[0] * 100\n",
    "# df.insert(1, 'n_filters', df.iloc[:, 0].apply(lambda name: int(name.split('-')[-1])))\n",
    "df"
   ]
  },
  {
   "cell_type": "code",
   "execution_count": null,
   "id": "bd3f36dd",
   "metadata": {},
   "outputs": [],
   "source": [
    "# pattern = 'giantsteps-comb-scaled-equal-*/overall.json'\n",
    "pattern = 'giantsteps-*/overall.json'\n",
    "dataset = 'aggregate'\n",
    "df = pd.DataFrame(columns=['run', 'accuracy', 'mirex_weighted', 'n_params'])\n",
    "for file in combnet.EVAL_DIR.glob(pattern):\n",
    "    name = file.parent.name\n",
    "    with open(file, 'r') as f:\n",
    "        results = load(f)\n",
    "        n_params = results['meta']['n_params']\n",
    "        results = results[dataset]\n",
    "    df.loc[len(df)] = [name, results['accuracy'], results['mirex_weighted'], n_params]\n",
    "# df = df[~df['run'].str.contains('sum|mean')]\n",
    "df = df.sort_values('mirex_weighted', ascending=False)\n",
    "# df.insert(1, 'n_filters', df.iloc[:, 0].apply(lambda name: int(name.split('-')[-1])))\n",
    "df"
   ]
  },
  {
   "cell_type": "code",
   "execution_count": null,
   "id": "fe42ddb2",
   "metadata": {},
   "outputs": [],
   "source": []
  }
 ],
 "metadata": {
  "kernelspec": {
   "display_name": "Python 3",
   "language": "python",
   "name": "python3"
  },
  "language_info": {
   "codemirror_mode": {
    "name": "ipython",
    "version": 3
   },
   "file_extension": ".py",
   "mimetype": "text/x-python",
   "name": "python",
   "nbconvert_exporter": "python",
   "pygments_lexer": "ipython3",
   "version": "3.13.5"
  }
 },
 "nbformat": 4,
 "nbformat_minor": 5
}
