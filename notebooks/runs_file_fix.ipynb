{
 "cells": [
  {
   "cell_type": "code",
   "execution_count": 10,
   "metadata": {
    "tags": [],
    "vscode": {
     "languageId": "plaintext"
    }
   },
   "outputs": [],
   "source": [
    "from pathlib import Path"
   ]
  },
  {
   "cell_type": "code",
   "execution_count": 17,
   "metadata": {
    "tags": []
   },
   "outputs": [
    {
     "name": "stdout",
     "output_type": "stream",
     "text": [
      "../runs/giantsteps-comb-1-0_5\n",
      "../runs/giantsteps-comb-0_01-0_9\n",
      "../runs/giantsteps-comb-1-0\n",
      "../runs/giantsteps-comb-1-0_9\n",
      "../runs/giantsteps-comb-0_01-0_5\n",
      "../runs/giantsteps-comb-0_1-0\n",
      "../runs/giantsteps-comb-0_01-0\n",
      "../runs/giantsteps-comb-0_1-0_9\n",
      "../runs/giantsteps-comb-0_1-0_5\n"
     ]
    }
   ],
   "source": [
    "runs_dir: Path = Path('..') / 'runs'\n",
    "for f in runs_dir.iterdir():\n",
    "    name = f.name\n",
    "    if name == '.gitkeep':\n",
    "        continue\n",
    "    if name.count('-') == 5:\n",
    "        continue\n",
    "    new_name = name.replace('-static', '')\n",
    "    new_path = f.parent / new_name\n",
    "    print(new_path)\n",
    "    f.rename(new_path)"
   ]
  },
  {
   "cell_type": "code",
   "execution_count": null,
   "metadata": {},
   "outputs": [],
   "source": []
  }
 ],
 "metadata": {
  "kernelspec": {
   "display_name": "Python (cameron)",
   "language": "python",
   "name": "cameron"
  },
  "language_info": {
   "codemirror_mode": {
    "name": "ipython",
    "version": 3
   },
   "file_extension": ".py",
   "mimetype": "text/x-python",
   "name": "python",
   "nbconvert_exporter": "python",
   "pygments_lexer": "ipython3",
   "version": "3.11.9"
  }
 },
 "nbformat": 4,
 "nbformat_minor": 4
}
